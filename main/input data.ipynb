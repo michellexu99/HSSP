import numpy as np 
import pandas as pd
from pandas import Series,DataFrame
from numpy import random,mat
data = pd.read_excel('./15.xlsx',header=None) 
data = data.values
Mlen = len(np.unique([i for j in data for i in j]))

Max = data.max()+1
M=np.zeros((Max,Max),dtype=float)

u=0
p=0.02
noise = []
parent1 = []
child = []
Input_one = []
Input_two = []

for j in range(1):
    n = np.random.normal(u,p,M.shape[1])#n = np.random.normal(u,p,10)
    c = np.random.randint(25, size=M.shape[1])#uniform,randint
    input_one = n + c
    input_one = input_one.tolist()
    input_two = input_one.copy()
    Input_one.append(input_one)
    Input_two.append(input_two)
    for i in data:
        print(i)
        node_a = i[1]
        node_b = i[0]
        print(node_a)
        print(node_b)
        M[node_a][node_b]=1
        M[node_b][node_a]=1
        A = input_one[node_a] + input_one[node_b]
        input_one[node_b] = A
        parent1.append(A)
        input_three = input_two + input_one
    child.append(input_three)
print(M)
