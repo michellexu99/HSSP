#import random
#random.shuffle(parent[0])
